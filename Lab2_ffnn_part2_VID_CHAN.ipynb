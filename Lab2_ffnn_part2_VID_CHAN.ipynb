{
  "nbformat": 4,
  "nbformat_minor": 0,
  "metadata": {
    "colab": {
      "name": "Lab2_ffnn_part2-VID CHAN.ipynb",
      "provenance": [],
      "collapsed_sections": []
    },
    "kernelspec": {
      "name": "python3",
      "display_name": "Python 3"
    }
  },
  "cells": [
    {
      "cell_type": "code",
      "metadata": {
        "id": "f50ODjhO9CSZ",
        "colab_type": "code",
        "colab": {}
      },
      "source": [
        "import matplotlib.pyplot as plt\n",
        "import numpy as np"
      ],
      "execution_count": 4,
      "outputs": []
    },
    {
      "cell_type": "markdown",
      "metadata": {
        "id": "W7e0w-139Iij",
        "colab_type": "text"
      },
      "source": [
        "### 1. Activation Functions"
      ]
    },
    {
      "cell_type": "markdown",
      "metadata": {
        "id": "SSsmLzjE9s-a",
        "colab_type": "text"
      },
      "source": [
        "\n",
        "Let's start by writing some functions for activation functions that we would like to be able to use.\n",
        "\n",
        "Fill in the functions below to implement the associated activation functions. Any time you need a special function (e.g. exponentation), try to find a version in NumPy so that your activation functions will work on single values as well as arrays.\n",
        "\n",
        "*bonus*: try to implment the ReLU activation function so that it works elementwise on a NumPy -- this is called \"vectorizing\" your code. Hint: check out the `np.where` function."
      ]
    },
    {
      "cell_type": "code",
      "metadata": {
        "id": "yr4mkpLh9yGP",
        "colab_type": "code",
        "colab": {}
      },
      "source": [
        "def linear(z):\n",
        "  '''\n",
        "  linear activation function\n",
        "  '''\n",
        "  return(z)\n",
        "  pass\n",
        "\n",
        "# more specifically, the logistic sigmoid that has values between 0 and 1\n",
        "def sigmoid(z):\n",
        "  '''\n",
        "  sigmoid activation function\n",
        "  '''\n",
        "  sig = 1/(1 + np.exp(-z)) \n",
        "  return(sig)\n",
        "\n",
        "  pass\n",
        "\n",
        "def tanh(z):\n",
        "  '''\n",
        "  tanh activation function\n",
        "  '''\n",
        "  return(np.tanh(z))\n",
        "  pass\n",
        "\n",
        "def relu(z):\n",
        "  return np.where(z>0, z, 0)\n",
        "  pass"
      ],
      "execution_count": 8,
      "outputs": []
    },
    {
      "cell_type": "code",
      "metadata": {
        "id": "-VEZ_W1V7yUv",
        "colab_type": "code",
        "colab": {}
      },
      "source": [
        "a = np.array([-1.0, 0.0, 1.0])\n",
        "\n",
        "np.testing.assert_equal(linear(5), 5)\n",
        "np.testing.assert_equal(linear(-3.0), -3.0)\n",
        "np.testing.assert_array_equal(linear(a), a)\n",
        "\n",
        "np.testing.assert_equal(sigmoid(0.0), 0.5)\n",
        "np.testing.assert_allclose(sigmoid(a), [0.26894142, 0.5, 0.73105858])\n",
        "\n",
        "np.testing.assert_equal(tanh(0.0), 0.0)\n",
        "np.testing.assert_allclose(tanh(a), [-0.76159416, 0.0, 0.76159416])\n",
        "\n",
        "np.testing.assert_equal(relu(5), 5)\n",
        "np.testing.assert_equal(relu(-5), 0)"
      ],
      "execution_count": 10,
      "outputs": []
    },
    {
      "cell_type": "markdown",
      "metadata": {
        "id": "M3R7FZ8y9S1v",
        "colab_type": "text"
      },
      "source": [
        "### 2. Try it out"
      ]
    },
    {
      "cell_type": "markdown",
      "metadata": {
        "id": "edvxHceU_XkJ",
        "colab_type": "text"
      },
      "source": [
        "Let's reuse our neural net layer function from last time.\n"
      ]
    },
    {
      "cell_type": "code",
      "metadata": {
        "id": "IbMrGPe9_X2d",
        "colab_type": "code",
        "colab": {}
      },
      "source": [
        "def nn_layer(X, W, b, f):\n",
        "  return f(np.dot(X, W) + b)"
      ],
      "execution_count": 11,
      "outputs": []
    },
    {
      "cell_type": "code",
      "metadata": {
        "id": "XLIsi2EuAkut",
        "colab_type": "code",
        "colab": {}
      },
      "source": [
        "def nn_two_layers(X, W_1, b_1, f_1, W_2, b_2, f_2):\n",
        "  H = nn_layer(X, W_1, b_1, f_1)\n",
        "  Y_hat = nn_layer(H, W_2, b_2, f_2)\n",
        "  return Y_hat"
      ],
      "execution_count": 12,
      "outputs": []
    },
    {
      "cell_type": "markdown",
      "metadata": {
        "id": "sf7oiWBp_jbE",
        "colab_type": "text"
      },
      "source": [
        "But now, we have multiple activation functions to try out. As we did previously, create randomized weight matrices for a network with scalar input, scalar output and any number of hidden nodes in a single layer. Generate plots of this input output relationships.\n",
        "\n",
        "This time, try out different activation functions: linear, sigmoid, tanh, relu and visualize the results."
      ]
    },
    {
      "cell_type": "code",
      "metadata": {
        "id": "Er92ByXX_egf",
        "colab_type": "code",
        "colab": {}
      },
      "source": [
        "# Set the input dimension, the number of hidden units, and the number of ouptput units\n",
        "n_input, n_hidden, n_output = 1, 15, 1\n",
        "\n",
        "# We want get the NN's output for a range of input values, so that we cant plot\n",
        "# input vs output. We can get evenly space values using `np.linspace`. We also\n",
        "# want to process these inputs as a \"batch\", so we use `np.newaxis` to turn this\n",
        "# 1-d array into a 2-d array with a single column.\n",
        "n_grid = 100\n",
        "X = np.linspace(-10, 10, n_grid)[:, np.newaxis]\n",
        "\n",
        "# We can generate random values (drawn from a standard gaussian distribution --\n",
        "# mean = 0, standard deviation = 1), with `np.random.randn(shape)`\n",
        "W_1 = np.random.randn(n_input, n_hidden)\n",
        "b_1 = np.random.randn(n_hidden)\n",
        "W_2 = np.random.randn(n_hidden, n_output)\n",
        "b_2 = np.random.randn(n_output)\n"
      ],
      "execution_count": 17,
      "outputs": []
    },
    {
      "cell_type": "markdown",
      "metadata": {
        "id": "LBI23a_F9Xuu",
        "colab_type": "text"
      },
      "source": [
        "### 3.  Outputs and Losses"
      ]
    },
    {
      "cell_type": "markdown",
      "metadata": {
        "id": "kgPrHIxbBEVy",
        "colab_type": "text"
      },
      "source": [
        "Next, we'll define some common Output activation functions"
      ]
    },
    {
      "cell_type": "code",
      "metadata": {
        "id": "dQxHU6t3PraV",
        "colab_type": "code",
        "colab": {}
      },
      "source": [
        "def sigmoid(z):\n",
        "  '''\n",
        "  sigmoid output function\n",
        "  '''\n",
        "  pass\n",
        "\n",
        "def softmax(z):\n",
        "  '''\n",
        "  softmax output function\n",
        "  '''\n",
        "  pass"
      ],
      "execution_count": null,
      "outputs": []
    },
    {
      "cell_type": "code",
      "metadata": {
        "id": "AAFko6cqRFP6",
        "colab_type": "code",
        "colab": {}
      },
      "source": [
        "np.testing.assert_almost_equal(\n",
        "    sigmoid(2),\n",
        "    np.array([.88]),\n",
        "    decimal=2\n",
        ")\n",
        "\n",
        "np.testing.assert_almost_equal(\n",
        "    sigmoid(np.array([2,-2,1,-1])),\n",
        "    np.array([.88, .12, .73, .27]),\n",
        "    decimal=2\n",
        ")\n",
        "\n",
        "np.testing.assert_almost_equal(\n",
        "    softmax(np.array([[2,5,1], [3,1,1]])),\n",
        "    np.array([[0.046, 0.93, 0.017],\n",
        "       [0.78, 0.10, 0.10]]),\n",
        "    decimal=2\n",
        ")"
      ],
      "execution_count": null,
      "outputs": []
    },
    {
      "cell_type": "markdown",
      "metadata": {
        "id": "xNrgYJtqBKyw",
        "colab_type": "text"
      },
      "source": [
        "Next, we'll define some common Loss functions."
      ]
    },
    {
      "cell_type": "code",
      "metadata": {
        "id": "PMvoYMgSBNiD",
        "colab_type": "code",
        "colab": {}
      },
      "source": [
        "def squared_error(y_hat, y_true):\n",
        "  '''\n",
        "  squared error loss\n",
        "  '''\n",
        "  pass\n",
        "\n",
        "\n",
        "def binary_crossentropy(y_hat, y_true):\n",
        "  '''\n",
        "  binary crossentropy loss for label-encoded inputs\n",
        "  '''\n",
        "  pass\n",
        "\n",
        "\n",
        "def binary_crossentropy_onehot(y_hat, y_true):\n",
        "  '''\n",
        "  binary crossentropy loss for onehot-encoded inputs\n",
        "  '''\n",
        "  pass\n",
        "\n",
        "\n",
        "def categorical_crossentropy(y_hat, y_true):\n",
        "  '''\n",
        "  categorical crossentropy loss for onehot-encoded inputs\n",
        "  '''\n",
        "  pass\n"
      ],
      "execution_count": 15,
      "outputs": []
    },
    {
      "cell_type": "code",
      "metadata": {
        "id": "LgAP3aFeEWOX",
        "colab_type": "code",
        "colab": {
          "base_uri": "https://localhost:8080/",
          "height": 232
        },
        "outputId": "b8706241-2863-4358-885b-b8b0a8a4a937"
      },
      "source": [
        "np.testing.assert_equal(\n",
        "    squared_error(np.array([1,2,4]), np.array([5,4,3])),\n",
        "    np.array([16, 4, 1])\n",
        ")\n",
        "\n",
        "\n",
        "np.testing.assert_almost_equal(\n",
        "    binary_crossentropy(\n",
        "        np.array([.51, .49, .99, 0.01, .99 ]), \n",
        "        np.array([1, 1, 1, 1, 0])),\n",
        "    np.array([0.67, 0.71, 0.01, 4.60, 4.60]),\n",
        "    decimal=2\n",
        ")\n",
        "\n",
        "np.testing.assert_almost_equal(\n",
        "    binary_crossentropy_onehot(\n",
        "        np.array([[.49, .51], [.51, .49], [.01, .99], [0.99, .01], [.01, .99] ]), \n",
        "        np.array([[0, 1], [0, 1], [0, 1], [0, 1], [1, 0]])),\n",
        "    np.array([0.67, 0.71, 0.01, 4.60, 4.60]),\n",
        "    decimal=2\n",
        ")\n",
        "\n",
        "np.testing.assert_almost_equal(\n",
        "      categorical_crossentropy(\n",
        "        np.array([[.4, .5, .1], [.2, .2, .6]  ]), \n",
        "        np.array([[0, 1, 0], [0, 1, 0],])),\n",
        "    np.array([0.69, 1.6]),\n",
        "    decimal=2\n",
        ")\n",
        "\n"
      ],
      "execution_count": 14,
      "outputs": [
        {
          "output_type": "error",
          "ename": "NameError",
          "evalue": "ignored",
          "traceback": [
            "\u001b[0;31m---------------------------------------------------------------------------\u001b[0m",
            "\u001b[0;31mNameError\u001b[0m                                 Traceback (most recent call last)",
            "\u001b[0;32m<ipython-input-14-ac7d36a7aac7>\u001b[0m in \u001b[0;36m<module>\u001b[0;34m()\u001b[0m\n\u001b[1;32m      1\u001b[0m np.testing.assert_equal(\n\u001b[0;32m----> 2\u001b[0;31m     \u001b[0msquared_error\u001b[0m\u001b[0;34m(\u001b[0m\u001b[0mnp\u001b[0m\u001b[0;34m.\u001b[0m\u001b[0marray\u001b[0m\u001b[0;34m(\u001b[0m\u001b[0;34m[\u001b[0m\u001b[0;36m1\u001b[0m\u001b[0;34m,\u001b[0m\u001b[0;36m2\u001b[0m\u001b[0;34m,\u001b[0m\u001b[0;36m4\u001b[0m\u001b[0;34m]\u001b[0m\u001b[0;34m)\u001b[0m\u001b[0;34m,\u001b[0m \u001b[0mnp\u001b[0m\u001b[0;34m.\u001b[0m\u001b[0marray\u001b[0m\u001b[0;34m(\u001b[0m\u001b[0;34m[\u001b[0m\u001b[0;36m5\u001b[0m\u001b[0;34m,\u001b[0m\u001b[0;36m4\u001b[0m\u001b[0;34m,\u001b[0m\u001b[0;36m3\u001b[0m\u001b[0;34m]\u001b[0m\u001b[0;34m)\u001b[0m\u001b[0;34m)\u001b[0m\u001b[0;34m,\u001b[0m\u001b[0;34m\u001b[0m\u001b[0;34m\u001b[0m\u001b[0m\n\u001b[0m\u001b[1;32m      3\u001b[0m     \u001b[0mnp\u001b[0m\u001b[0;34m.\u001b[0m\u001b[0marray\u001b[0m\u001b[0;34m(\u001b[0m\u001b[0;34m[\u001b[0m\u001b[0;36m16\u001b[0m\u001b[0;34m,\u001b[0m \u001b[0;36m4\u001b[0m\u001b[0;34m,\u001b[0m \u001b[0;36m1\u001b[0m\u001b[0;34m]\u001b[0m\u001b[0;34m)\u001b[0m\u001b[0;34m\u001b[0m\u001b[0;34m\u001b[0m\u001b[0m\n\u001b[1;32m      4\u001b[0m )\n\u001b[1;32m      5\u001b[0m \u001b[0;34m\u001b[0m\u001b[0m\n",
            "\u001b[0;31mNameError\u001b[0m: name 'squared_error' is not defined"
          ]
        }
      ]
    },
    {
      "cell_type": "markdown",
      "metadata": {
        "id": "S8FZ8gj-9dkd",
        "colab_type": "text"
      },
      "source": [
        "###4. Discussion problem with your groups"
      ]
    },
    {
      "cell_type": "markdown",
      "metadata": {
        "id": "cCdSFuKmTk7v",
        "colab_type": "text"
      },
      "source": [
        "Suppose we want to predict if a person is a credit risk (Yes or No) based on their {Income, Age, YearsOfEducation}. Draw a diagram of a possible neural network (with one hidden layer) to fit a datset like this. \n",
        "* How many input nodes and output nodes are there?\n",
        "* Pick how many nodes are in the hidden layer. Pick an activation function in the hidden layer. Include bias nodes at the hidden layer and the output layer.\n",
        "* What activation function would you pick for the output layer?\n",
        "* What loss function would you pick for fitting this model?\n",
        "* How many total free parameters are in this network? \n",
        "* Write an equation for the output of this network as a function of its input."
      ]
    },
    {
      "cell_type": "code",
      "metadata": {
        "id": "SMIAZEP_9O4s",
        "colab_type": "code",
        "colab": {}
      },
      "source": [
        ""
      ],
      "execution_count": null,
      "outputs": []
    }
  ]
}