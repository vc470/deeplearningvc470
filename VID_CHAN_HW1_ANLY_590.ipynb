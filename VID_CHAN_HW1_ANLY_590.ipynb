{
  "nbformat": 4,
  "nbformat_minor": 0,
  "metadata": {
    "colab": {
      "name": "VID CHAN - HW1 - ANLY 590.ipynb",
      "provenance": [],
      "collapsed_sections": []
    },
    "kernelspec": {
      "name": "python3",
      "display_name": "Python 3"
    }
  },
  "cells": [
    {
      "cell_type": "code",
      "metadata": {
        "id": "YpshJZ77KN5q",
        "colab_type": "code",
        "colab": {}
      },
      "source": [
        "import pandas as pd\n",
        "import numpy as np\n",
        "import matplotlib.pyplot as plt\n",
        "\n",
        "from sklearn.model_selection import train_test_split\n",
        "\n",
        "from sklearn.preprocessing import scale \n",
        "from sklearn.model_selection import train_test_split\n",
        "from sklearn.linear_model import Ridge, RidgeCV, Lasso, LassoCV\n",
        "from sklearn.metrics import mean_squared_error"
      ],
      "execution_count": 23,
      "outputs": []
    },
    {
      "cell_type": "code",
      "metadata": {
        "id": "0TuxJC-uK507",
        "colab_type": "code",
        "colab": {}
      },
      "source": [
        "data = pd.read_csv(\"Hitters.csv\")\n",
        "data.dtypes"
      ],
      "execution_count": null,
      "outputs": []
    },
    {
      "cell_type": "code",
      "metadata": {
        "id": "Gs2z6nSmLh-6",
        "colab_type": "code",
        "colab": {}
      },
      "source": [
        "# drop non-numeric variables from the data set for this exercise.\n",
        "data.drop(['Unnamed: 0','League','Division','NewLeague'],axis=1, inplace=True)\n",
        "\n",
        "data.head(5)\n",
        "\n",
        "data.dtypes"
      ],
      "execution_count": null,
      "outputs": []
    },
    {
      "cell_type": "code",
      "metadata": {
        "id": "157UHAkBLnHS",
        "colab_type": "code",
        "colab": {}
      },
      "source": [
        "# missing values \n",
        "# drop missing values\n",
        "\n",
        "data.isnull().sum()\n",
        "\n",
        "data.dropna(inplace=True)"
      ],
      "execution_count": 26,
      "outputs": []
    },
    {
      "cell_type": "code",
      "metadata": {
        "id": "RsM_m6esQvZs",
        "colab_type": "code",
        "colab": {}
      },
      "source": [
        "y = data.Salary\n",
        "\n",
        "X = data.drop(['Salary'], axis = 1)\n"
      ],
      "execution_count": 27,
      "outputs": []
    },
    {
      "cell_type": "code",
      "metadata": {
        "id": "th4SWpK5R40u",
        "colab_type": "code",
        "colab": {}
      },
      "source": [
        "# creating an array of potential alphas\n",
        "alphas = np.arange(0.1,6,0.025)\n",
        "alphas\n"
      ],
      "execution_count": null,
      "outputs": []
    },
    {
      "cell_type": "code",
      "metadata": {
        "id": "CDmx-OnzYBy2",
        "colab_type": "code",
        "colab": {}
      },
      "source": [
        "X_train, X_test , y_train, y_test = train_test_split(X, y, test_size=0.25, random_state=1)"
      ],
      "execution_count": 40,
      "outputs": []
    },
    {
      "cell_type": "markdown",
      "metadata": {
        "id": "SqXAHjnkXo7J",
        "colab_type": "text"
      },
      "source": [
        "**LASSO REGRESSION**\n",
        "\n",
        "Lasso regression does variable selection. "
      ]
    },
    {
      "cell_type": "code",
      "metadata": {
        "id": "2H2iQY-YXnDL",
        "colab_type": "code",
        "colab": {
          "base_uri": "https://localhost:8080/",
          "height": 296
        },
        "outputId": "000d6d5d-2893-44a3-86cb-f1a9f952574f"
      },
      "source": [
        "lasso = Lasso(max_iter = 10000, normalize = True)\n",
        "coefs = []\n",
        "\n",
        "for i in alphas:\n",
        "    lasso = Lasso(alpha = i, normalize = True)\n",
        "    lasso.fit(scale(X_train), y_train)\n",
        "    coefs.append(lasso.coef_)\n",
        "    \n",
        "fig = plt.figure()\n",
        "ax = plt.axes()\n",
        "ax.plot(alphas,coefs)\n",
        "plt.axis('tight')\n",
        "plt.xlabel('alpha')\n",
        "plt.ylabel('coefficients')"
      ],
      "execution_count": 41,
      "outputs": [
        {
          "output_type": "execute_result",
          "data": {
            "text/plain": [
              "Text(0, 0.5, 'coefficients')"
            ]
          },
          "metadata": {
            "tags": []
          },
          "execution_count": 41
        },
        {
          "output_type": "display_data",
          "data": {
            "image/png": "[encoded data removed]",
            "text/plain": [
              "<Figure size 432x288 with 1 Axes>"
            ]
          },
          "metadata": {
            "tags": [],
            "needs_background": "light"
          }
        }
      ]
    },
    {
      "cell_type": "code",
      "metadata": {
        "id": "H_YqZv48X5xh",
        "colab_type": "code",
        "colab": {
          "base_uri": "https://localhost:8080/",
          "height": 34
        },
        "outputId": "5a6260ca-1b69-4e0e-e22b-ff3c15c10ea8"
      },
      "source": [
        "# finding the optimal alpha using 5-fold cross validation\n",
        "lassocv = LassoCV(alphas = alphas,cv = 5,max_iter = 100000, normalize = True)\n",
        "lassocv.fit(X_train, y_train)\n",
        "print(lassocv.alpha_)"
      ],
      "execution_count": 42,
      "outputs": [
        {
          "output_type": "stream",
          "text": [
            "0.22499999999999998\n"
          ],
          "name": "stdout"
        }
      ]
    },
    {
      "cell_type": "code",
      "metadata": {
        "id": "RLrj_2hfZj73",
        "colab_type": "code",
        "colab": {
          "base_uri": "https://localhost:8080/",
          "height": 34
        },
        "outputId": "39f3408c-6fdb-4702-f307-e7cf0275c2ce"
      },
      "source": [
        "# MSE for test set\n",
        "lasso.set_params(alpha=lassocv.alpha_)\n",
        "lasso.fit(X_train, y_train)\n",
        "mean_squared_error(y_test, lasso.predict(X_test))\n"
      ],
      "execution_count": 43,
      "outputs": [
        {
          "output_type": "execute_result",
          "data": {
            "text/plain": [
              "139679.8684688007"
            ]
          },
          "metadata": {
            "tags": []
          },
          "execution_count": 43
        }
      ]
    },
    {
      "cell_type": "code",
      "metadata": {
        "id": "u1ns4RFTYZjV",
        "colab_type": "code",
        "colab": {
          "base_uri": "https://localhost:8080/",
          "height": 306
        },
        "outputId": "b07dd1af-07ad-4d19-882e-20326dff2045"
      },
      "source": [
        "pd.Series(lasso.coef_, index=X.columns)"
      ],
      "execution_count": 44,
      "outputs": [
        {
          "output_type": "execute_result",
          "data": {
            "text/plain": [
              "AtBat     -1.952272\n",
              "Hits       6.662623\n",
              "HmRun     -4.274239\n",
              "Runs      -0.000000\n",
              "RBI        2.397850\n",
              "Walks      3.541947\n",
              "Years     -3.768896\n",
              "CAtBat    -0.000000\n",
              "CHits      0.217824\n",
              "CHmRun     1.799708\n",
              "CRuns      0.035492\n",
              "CRBI       0.000000\n",
              "CWalks    -0.337305\n",
              "PutOuts    0.341512\n",
              "Assists    0.023419\n",
              "Errors     2.882732\n",
              "dtype: float64"
            ]
          },
          "metadata": {
            "tags": []
          },
          "execution_count": 44
        }
      ]
    },
    {
      "cell_type": "markdown",
      "metadata": {
        "id": "GxjJR1JzlAuX",
        "colab_type": "text"
      },
      "source": [
        "Using the optimal alpha value, \"Runs\" \"CRBI\" and \"CAtBat\" have coefficient values of zero. Therefore, there are only 13 predictors left in the model."
      ]
    },
    {
      "cell_type": "markdown",
      "metadata": {
        "id": "dnvASOMRXML9",
        "colab_type": "text"
      },
      "source": [
        "**RIDGE REGRESSION**\n",
        "\n",
        "Ridge regression doesn't do variable selection."
      ]
    },
    {
      "cell_type": "code",
      "metadata": {
        "id": "X2EeVxG5R8vT",
        "colab_type": "code",
        "colab": {
          "base_uri": "https://localhost:8080/",
          "height": 296
        },
        "outputId": "62b27a14-5cb5-44b0-d52d-efb76db26728"
      },
      "source": [
        "coefs2 = []\n",
        "\n",
        "for i in alphas:\n",
        "    ridge = Ridge(alpha = i, normalize = True)\n",
        "    ridge.fit(X_train, y_train)\n",
        "    coefs2.append(ridge.coef_)\n",
        "    \n",
        "fig2 = plt.figure()\n",
        "ax2 = plt.axes()\n",
        "ax2.plot(alphas,coefs2)\n",
        "plt.xlabel('alpha')\n",
        "plt.ylabel('coefficients')\n",
        "    \n",
        "np.shape(coefs2)\n",
        "#coefs"
      ],
      "execution_count": 45,
      "outputs": [
        {
          "output_type": "execute_result",
          "data": {
            "text/plain": [
              "(236, 16)"
            ]
          },
          "metadata": {
            "tags": []
          },
          "execution_count": 45
        },
        {
          "output_type": "display_data",
          "data": {
            "image/png": "[encoded data removed]",
            "text/plain": [
              "<Figure size 432x288 with 1 Axes>"
            ]
          },
          "metadata": {
            "tags": [],
            "needs_background": "light"
          }
        }
      ]
    },
    {
      "cell_type": "code",
      "metadata": {
        "id": "heo3sNIwVxH1",
        "colab_type": "code",
        "colab": {
          "base_uri": "https://localhost:8080/",
          "height": 34
        },
        "outputId": "bf513fbb-0cdf-42cd-8949-25355b175f22"
      },
      "source": [
        "# Finding optimal alpha value using cross-validation technique\n",
        "ridgecv = RidgeCV(alphas = alphas,cv = 5, scoring = 'neg_mean_squared_error', normalize = True)\n",
        "ridgecv.fit(X_train, y_train)\n",
        "ridgecv.alpha_\n"
      ],
      "execution_count": 46,
      "outputs": [
        {
          "output_type": "execute_result",
          "data": {
            "text/plain": [
              "0.1"
            ]
          },
          "metadata": {
            "tags": []
          },
          "execution_count": 46
        }
      ]
    },
    {
      "cell_type": "code",
      "metadata": {
        "id": "wv53Dh6DWGUd",
        "colab_type": "code",
        "colab": {
          "base_uri": "https://localhost:8080/",
          "height": 34
        },
        "outputId": "2924b8b1-7a35-4416-ebe5-79dc5b2842b1"
      },
      "source": [
        "# using optimal alpha value found above to find test MSE\n",
        "\n",
        "ridge4 = Ridge(alpha = ridgecv.alpha_, normalize = True)\n",
        "ridge4.fit(X_train, y_train)\n",
        "mean_squared_error(y_test, ridge4.predict(X_test))"
      ],
      "execution_count": 47,
      "outputs": [
        {
          "output_type": "execute_result",
          "data": {
            "text/plain": [
              "137071.39768575333"
            ]
          },
          "metadata": {
            "tags": []
          },
          "execution_count": 47
        }
      ]
    },
    {
      "cell_type": "code",
      "metadata": {
        "id": "zlakRhBvWcdY",
        "colab_type": "code",
        "colab": {
          "base_uri": "https://localhost:8080/",
          "height": 306
        },
        "outputId": "fec1e985-b793-4cce-a3d8-bac267d86227"
      },
      "source": [
        "ridge4.fit(X, y)\n",
        "pd.Series(ridge4.coef_, index = X.columns)"
      ],
      "execution_count": 48,
      "outputs": [
        {
          "output_type": "execute_result",
          "data": {
            "text/plain": [
              "AtBat     -0.463652\n",
              "Hits       2.106433\n",
              "HmRun     -2.284238\n",
              "Runs       1.359761\n",
              "RBI        1.155556\n",
              "Walks      2.819749\n",
              "Years     -6.565497\n",
              "CAtBat     0.003567\n",
              "CHits      0.107357\n",
              "CHmRun     0.614058\n",
              "CRuns      0.240508\n",
              "CRBI       0.216115\n",
              "CWalks    -0.143558\n",
              "PutOuts    0.259934\n",
              "Assists    0.133756\n",
              "Errors    -3.160634\n",
              "dtype: float64"
            ]
          },
          "metadata": {
            "tags": []
          },
          "execution_count": 48
        }
      ]
    },
    {
      "cell_type": "markdown",
      "metadata": {
        "id": "hpUzMj9-jZEe",
        "colab_type": "text"
      },
      "source": [
        "**2: Bias-variance trade-off**\n",
        "\n",
        "Bias measures the difference between the average prediction of a model and the true value. High bias means the model doesn't pay enough attention to the training data. It oversimplies the model and therefore, is under fit. \n",
        "\n",
        "Variance measures the variability of the model accuracy on a given set of data. High variance means the model pays too much attention to the training data (over fit). Therefore, it does poorly when it is applied to the test set. \n",
        "\n",
        "When building model, one has to pay close attention to the bias-variance trade-off. It is a tradeoff of how each model is underfitting or overfitting. Higher bias/lower variance means the model is underfitting. Lower bias/higher variance means the model is overfitting.\n",
        "\n",
        "Regularization is a regression method used to solve high variance issue. For overfit model, it minimizes the effect of predictors with large outliers by penalizing their regression coefficients. This way, the resulting model will be smoother and will work well with test sets. \n",
        "\n",
        "In the examples above, the choice of alpha is important. It helps manage the bias/variance tradeoff. One can choose a random alpha that works really well with the training data, but does not work well with the test data. Cross-validation can be used to find the optimal value of regulization penalty as shown above for both Lasso and Ridge regressions. \n",
        "\n"
      ]
    }
  ]
}