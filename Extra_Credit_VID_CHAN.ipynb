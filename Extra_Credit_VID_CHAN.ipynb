{
  "nbformat": 4,
  "nbformat_minor": 0,
  "metadata": {
    "colab": {
      "name": "Extra Credit-VID CHAN.ipynb",
      "provenance": [],
      "collapsed_sections": []
    },
    "kernelspec": {
      "name": "python3",
      "display_name": "Python 3"
    },
    "widgets": {
      "application/vnd.jupyter.widget-state+json": {
        "4a05b6274ecd4bd4967977a6ab3cf789": {
          "model_module": "@jupyter-widgets/controls",
          "model_name": "HBoxModel",
          "state": {
            "_view_name": "HBoxView",
            "_dom_classes": [],
            "_model_name": "HBoxModel",
            "_view_module": "@jupyter-widgets/controls",
            "_model_module_version": "1.5.0",
            "_view_count": null,
            "_view_module_version": "1.5.0",
            "box_style": "",
            "layout": "IPY_MODEL_06150a6ba05c47ff97db8e8b9c4840b4",
            "_model_module": "@jupyter-widgets/controls",
            "children": [
              "IPY_MODEL_a01d618e836b4c3b860a5ea91627d461",
              "IPY_MODEL_b566f69ffd9a40f19a27563cd3d037f5"
            ]
          }
        },
        "06150a6ba05c47ff97db8e8b9c4840b4": {
          "model_module": "@jupyter-widgets/base",
          "model_name": "LayoutModel",
          "state": {
            "_view_name": "LayoutView",
            "grid_template_rows": null,
            "right": null,
            "justify_content": null,
            "_view_module": "@jupyter-widgets/base",
            "overflow": null,
            "_model_module_version": "1.2.0",
            "_view_count": null,
            "flex_flow": null,
            "width": null,
            "min_width": null,
            "border": null,
            "align_items": null,
            "bottom": null,
            "_model_module": "@jupyter-widgets/base",
            "top": null,
            "grid_column": null,
            "overflow_y": null,
            "overflow_x": null,
            "grid_auto_flow": null,
            "grid_area": null,
            "grid_template_columns": null,
            "flex": null,
            "_model_name": "LayoutModel",
            "justify_items": null,
            "grid_row": null,
            "max_height": null,
            "align_content": null,
            "visibility": null,
            "align_self": null,
            "height": null,
            "min_height": null,
            "padding": null,
            "grid_auto_rows": null,
            "grid_gap": null,
            "max_width": null,
            "order": null,
            "_view_module_version": "1.2.0",
            "grid_template_areas": null,
            "object_position": null,
            "object_fit": null,
            "grid_auto_columns": null,
            "margin": null,
            "display": null,
            "left": null
          }
        },
        "a01d618e836b4c3b860a5ea91627d461": {
          "model_module": "@jupyter-widgets/controls",
          "model_name": "FloatProgressModel",
          "state": {
            "_view_name": "ProgressView",
            "style": "IPY_MODEL_a2b05be916e34503b39966d3d7565fa7",
            "_dom_classes": [],
            "description": "",
            "_model_name": "FloatProgressModel",
            "bar_style": "info",
            "max": 1,
            "_view_module": "@jupyter-widgets/controls",
            "_model_module_version": "1.5.0",
            "value": 1,
            "_view_count": null,
            "_view_module_version": "1.5.0",
            "orientation": "horizontal",
            "min": 0,
            "description_tooltip": null,
            "_model_module": "@jupyter-widgets/controls",
            "layout": "IPY_MODEL_48d0c88d6ab54e3cb3c04db690a36dd4"
          }
        },
        "b566f69ffd9a40f19a27563cd3d037f5": {
          "model_module": "@jupyter-widgets/controls",
          "model_name": "HTMLModel",
          "state": {
            "_view_name": "HTMLView",
            "style": "IPY_MODEL_d0cd3b13191f4a82bd90ffd094b54838",
            "_dom_classes": [],
            "description": "",
            "_model_name": "HTMLModel",
            "placeholder": "​",
            "_view_module": "@jupyter-widgets/controls",
            "_model_module_version": "1.5.0",
            "value": " 170500096/? [00:20&lt;00:00, 32469221.17it/s]",
            "_view_count": null,
            "_view_module_version": "1.5.0",
            "description_tooltip": null,
            "_model_module": "@jupyter-widgets/controls",
            "layout": "IPY_MODEL_66f07878e40144a398764641e415b081"
          }
        },
        "a2b05be916e34503b39966d3d7565fa7": {
          "model_module": "@jupyter-widgets/controls",
          "model_name": "ProgressStyleModel",
          "state": {
            "_view_name": "StyleView",
            "_model_name": "ProgressStyleModel",
            "description_width": "initial",
            "_view_module": "@jupyter-widgets/base",
            "_model_module_version": "1.5.0",
            "_view_count": null,
            "_view_module_version": "1.2.0",
            "bar_color": null,
            "_model_module": "@jupyter-widgets/controls"
          }
        },
        "48d0c88d6ab54e3cb3c04db690a36dd4": {
          "model_module": "@jupyter-widgets/base",
          "model_name": "LayoutModel",
          "state": {
            "_view_name": "LayoutView",
            "grid_template_rows": null,
            "right": null,
            "justify_content": null,
            "_view_module": "@jupyter-widgets/base",
            "overflow": null,
            "_model_module_version": "1.2.0",
            "_view_count": null,
            "flex_flow": null,
            "width": null,
            "min_width": null,
            "border": null,
            "align_items": null,
            "bottom": null,
            "_model_module": "@jupyter-widgets/base",
            "top": null,
            "grid_column": null,
            "overflow_y": null,
            "overflow_x": null,
            "grid_auto_flow": null,
            "grid_area": null,
            "grid_template_columns": null,
            "flex": null,
            "_model_name": "LayoutModel",
            "justify_items": null,
            "grid_row": null,
            "max_height": null,
            "align_content": null,
            "visibility": null,
            "align_self": null,
            "height": null,
            "min_height": null,
            "padding": null,
            "grid_auto_rows": null,
            "grid_gap": null,
            "max_width": null,
            "order": null,
            "_view_module_version": "1.2.0",
            "grid_template_areas": null,
            "object_position": null,
            "object_fit": null,
            "grid_auto_columns": null,
            "margin": null,
            "display": null,
            "left": null
          }
        },
        "d0cd3b13191f4a82bd90ffd094b54838": {
          "model_module": "@jupyter-widgets/controls",
          "model_name": "DescriptionStyleModel",
          "state": {
            "_view_name": "StyleView",
            "_model_name": "DescriptionStyleModel",
            "description_width": "",
            "_view_module": "@jupyter-widgets/base",
            "_model_module_version": "1.5.0",
            "_view_count": null,
            "_view_module_version": "1.2.0",
            "_model_module": "@jupyter-widgets/controls"
          }
        },
        "66f07878e40144a398764641e415b081": {
          "model_module": "@jupyter-widgets/base",
          "model_name": "LayoutModel",
          "state": {
            "_view_name": "LayoutView",
            "grid_template_rows": null,
            "right": null,
            "justify_content": null,
            "_view_module": "@jupyter-widgets/base",
            "overflow": null,
            "_model_module_version": "1.2.0",
            "_view_count": null,
            "flex_flow": null,
            "width": null,
            "min_width": null,
            "border": null,
            "align_items": null,
            "bottom": null,
            "_model_module": "@jupyter-widgets/base",
            "top": null,
            "grid_column": null,
            "overflow_y": null,
            "overflow_x": null,
            "grid_auto_flow": null,
            "grid_area": null,
            "grid_template_columns": null,
            "flex": null,
            "_model_name": "LayoutModel",
            "justify_items": null,
            "grid_row": null,
            "max_height": null,
            "align_content": null,
            "visibility": null,
            "align_self": null,
            "height": null,
            "min_height": null,
            "padding": null,
            "grid_auto_rows": null,
            "grid_gap": null,
            "max_width": null,
            "order": null,
            "_view_module_version": "1.2.0",
            "grid_template_areas": null,
            "object_position": null,
            "object_fit": null,
            "grid_auto_columns": null,
            "margin": null,
            "display": null,
            "left": null
          }
        }
      }
    }
  },
  "cells": [
    {
      "cell_type": "markdown",
      "metadata": {
        "id": "rKgrjQBovW34"
      },
      "source": [
        "QUESTION 1"
      ]
    },
    {
      "cell_type": "code",
      "metadata": {
        "id": "ycpxH4QuvRdI"
      },
      "source": [
        "# Import required libraries\n",
        "# Pytorch\n",
        "\n",
        "import numpy as np\n",
        "import torch\n",
        "import torch.nn as nn\n",
        "import torch.nn.functional as F\n",
        "import torch.optim as optim\n",
        "import matplotlib.pyplot as plt\n",
        "from torch.utils.data.sampler import SubsetRandomSampler\n",
        "from torch.utils.data import DataLoader\n",
        "from torchvision import datasets, transforms\n",
        "import matplotlib.pyplot as plt\n",
        "%matplotlib inline\n",
        "import torch.nn as nn\n",
        "import torch.nn.functional as F"
      ],
      "execution_count": 1,
      "outputs": []
    },
    {
      "cell_type": "code",
      "metadata": {
        "colab": {
          "base_uri": "https://localhost:8080/",
          "height": 100,
          "referenced_widgets": [
            "4a05b6274ecd4bd4967977a6ab3cf789",
            "06150a6ba05c47ff97db8e8b9c4840b4",
            "a01d618e836b4c3b860a5ea91627d461",
            "b566f69ffd9a40f19a27563cd3d037f5",
            "a2b05be916e34503b39966d3d7565fa7",
            "48d0c88d6ab54e3cb3c04db690a36dd4",
            "d0cd3b13191f4a82bd90ffd094b54838",
            "66f07878e40144a398764641e415b081"
          ]
        },
        "id": "Zgnrf1w9xQBL",
        "outputId": "890710f6-9fcb-49d8-cac3-b2c2cf4625c6"
      },
      "source": [
        "#After importing the libraries, we will download the CIFAR-10 dataset.\n",
        "\n",
        "#Converting data to torch.FloatTensor\n",
        "transform = transforms.ToTensor()\n",
        "\n",
        "# Download the training and test datasets\n",
        "train_data = datasets.CIFAR10(root='data', train=True, download=True, transform=transform)\n",
        "\n",
        "test_data = datasets.CIFAR10(root='data', train=False, download=True, transform=transform)"
      ],
      "execution_count": 2,
      "outputs": [
        {
          "output_type": "stream",
          "text": [
            "Downloading https://www.cs.toronto.edu/~kriz/cifar-10-python.tar.gz to data/cifar-10-python.tar.gz\n"
          ],
          "name": "stdout"
        },
        {
          "output_type": "display_data",
          "data": {
            "application/vnd.jupyter.widget-view+json": {
              "model_id": "4a05b6274ecd4bd4967977a6ab3cf789",
              "version_minor": 0,
              "version_major": 2
            },
            "text/plain": [
              "HBox(children=(FloatProgress(value=1.0, bar_style='info', max=1.0), HTML(value='')))"
            ]
          },
          "metadata": {
            "tags": []
          }
        },
        {
          "output_type": "stream",
          "text": [
            "Extracting data/cifar-10-python.tar.gz to data\n",
            "Files already downloaded and verified\n"
          ],
          "name": "stdout"
        }
      ]
    },
    {
      "cell_type": "code",
      "metadata": {
        "id": "r7LS6oCfxpJw"
      },
      "source": [
        "#Prepare data loaders\n",
        "train_loader = torch.utils.data.DataLoader(train_data, batch_size=32, num_workers=0)\n",
        "test_loader = torch.utils.data.DataLoader(test_data, batch_size=32, num_workers=0)"
      ],
      "execution_count": 3,
      "outputs": []
    },
    {
      "cell_type": "code",
      "metadata": {
        "colab": {
          "base_uri": "https://localhost:8080/",
          "height": 485
        },
        "id": "8OwE9XfCx0ll",
        "outputId": "70226a21-725d-44c0-b962-e6893ea60283"
      },
      "source": [
        "#Utility functions to un-normalize and display an image\n",
        "def imshow(img):\n",
        "    img = img / 2 + 0.5  \n",
        "    plt.imshow(np.transpose(img, (1, 2, 0))) \n",
        "\n",
        " \n",
        "#Define the image classes\n",
        "classes = ['airplane', 'automobile', 'bird', 'cat', 'deer', 'dog', 'frog', 'horse', 'ship', 'truck']\n",
        "\n",
        "#Obtain one batch of training images\n",
        "dataiter = iter(train_loader)\n",
        "images, labels = dataiter.next()\n",
        "images = images.numpy() # convert images to numpy for display\n",
        "\n",
        "#Plot the images\n",
        "fig = plt.figure(figsize=(8, 8))\n",
        "# display 20 images\n",
        "for idx in np.arange(9):\n",
        "    ax = fig.add_subplot(3, 3, idx+1, xticks=[], yticks=[])\n",
        "    imshow(images[idx])\n",
        "    ax.set_title(classes[labels[idx]])"
      ],
      "execution_count": 4,
      "outputs": [
        {
          "output_type": "display_data",
          "data": {
            "image/png": "[encoded data removed]",
            "text/plain": [
              "<Figure size 576x576 with 9 Axes>"
            ]
          },
          "metadata": {
            "tags": []
          }
        }
      ]
    },
    {
      "cell_type": "code",
      "metadata": {
        "colab": {
          "base_uri": "https://localhost:8080/"
        },
        "id": "RbSpd_RVyQQ0",
        "outputId": "295f2dc4-cf84-4b97-f794-5d8674fefa78"
      },
      "source": [
        "#Define the Convolutional Autoencoder\n",
        "class ConvAutoencoder(nn.Module):\n",
        "    def __init__(self):\n",
        "        super(ConvAutoencoder, self).__init__()\n",
        "       \n",
        "        #Encoder\n",
        "        self.conv1 = nn.Conv2d(3, 16, 3, padding=1)  \n",
        "        self.conv2 = nn.Conv2d(16, 4, 3, padding=1)\n",
        "        self.pool = nn.MaxPool2d(2, 2)\n",
        "       \n",
        "        #Decoder\n",
        "        self.t_conv1 = nn.ConvTranspose2d(4, 16, 2, stride=2)\n",
        "        self.t_conv2 = nn.ConvTranspose2d(16, 3, 2, stride=2)\n",
        "\n",
        "\n",
        "    def forward(self, x):\n",
        "        x = F.relu(self.conv1(x))\n",
        "        x = self.pool(x)\n",
        "        x = F.relu(self.conv2(x))\n",
        "        x = self.pool(x)\n",
        "        x = F.relu(self.t_conv1(x))\n",
        "        x = F.sigmoid(self.t_conv2(x))\n",
        "              \n",
        "        return x\n",
        "\n",
        "\n",
        "#Instantiate the model\n",
        "model = ConvAutoencoder()\n",
        "print(model)\n"
      ],
      "execution_count": 5,
      "outputs": [
        {
          "output_type": "stream",
          "text": [
            "ConvAutoencoder(\n",
            "  (conv1): Conv2d(3, 16, kernel_size=(3, 3), stride=(1, 1), padding=(1, 1))\n",
            "  (conv2): Conv2d(16, 4, kernel_size=(3, 3), stride=(1, 1), padding=(1, 1))\n",
            "  (pool): MaxPool2d(kernel_size=2, stride=2, padding=0, dilation=1, ceil_mode=False)\n",
            "  (t_conv1): ConvTranspose2d(4, 16, kernel_size=(2, 2), stride=(2, 2))\n",
            "  (t_conv2): ConvTranspose2d(16, 3, kernel_size=(2, 2), stride=(2, 2))\n",
            ")\n"
          ],
          "name": "stdout"
        }
      ]
    },
    {
      "cell_type": "code",
      "metadata": {
        "id": "RpqxWZgryuhW"
      },
      "source": [
        "#Loss function\n",
        "criterion = nn.BCELoss()\n",
        "\n",
        "#Optimizer\n",
        "optimizer = torch.optim.Adam(model.parameters(), lr=0.001)"
      ],
      "execution_count": 6,
      "outputs": []
    },
    {
      "cell_type": "code",
      "metadata": {
        "colab": {
          "base_uri": "https://localhost:8080/"
        },
        "id": "lXQQ5t6Ly_8U",
        "outputId": "74d362c8-1442-4a98-bb81-059ecb9d6814"
      },
      "source": [
        "def get_device():\n",
        "    if torch.cuda.is_available():\n",
        "        device = 'cuda:0'\n",
        "    else:\n",
        "        device = 'cpu'\n",
        "    return device\n",
        "\n",
        "device = get_device()\n",
        "print(device)\n",
        "model.to(device)"
      ],
      "execution_count": 7,
      "outputs": [
        {
          "output_type": "stream",
          "text": [
            "cpu\n"
          ],
          "name": "stdout"
        },
        {
          "output_type": "execute_result",
          "data": {
            "text/plain": [
              "ConvAutoencoder(\n",
              "  (conv1): Conv2d(3, 16, kernel_size=(3, 3), stride=(1, 1), padding=(1, 1))\n",
              "  (conv2): Conv2d(16, 4, kernel_size=(3, 3), stride=(1, 1), padding=(1, 1))\n",
              "  (pool): MaxPool2d(kernel_size=2, stride=2, padding=0, dilation=1, ceil_mode=False)\n",
              "  (t_conv1): ConvTranspose2d(4, 16, kernel_size=(2, 2), stride=(2, 2))\n",
              "  (t_conv2): ConvTranspose2d(16, 3, kernel_size=(2, 2), stride=(2, 2))\n",
              ")"
            ]
          },
          "metadata": {
            "tags": []
          },
          "execution_count": 7
        }
      ]
    },
    {
      "cell_type": "code",
      "metadata": {
        "colab": {
          "base_uri": "https://localhost:8080/"
        },
        "id": "szh5zBnmzFCE",
        "outputId": "043e9942-7ee8-45c6-e8ce-d1b7165d34e5"
      },
      "source": [
        "#Epochs\n",
        "n_epochs = 100\n",
        "\n",
        "for epoch in range(1, n_epochs+1):\n",
        "    # monitor training loss\n",
        "    train_loss = 0.0\n",
        "\n",
        "    #Training\n",
        "    for data in train_loader:\n",
        "        images, _ = data\n",
        "        images = images.to(device)\n",
        "        optimizer.zero_grad()\n",
        "        outputs = model(images)\n",
        "        loss = criterion(outputs, images)\n",
        "        loss.backward()\n",
        "        optimizer.step()\n",
        "        train_loss += loss.item()*images.size(0)\n",
        "          \n",
        "    train_loss = train_loss/len(train_loader)\n",
        "    print('Epoch: {} \\tTraining Loss: {:.6f}'.format(epoch, train_loss))\n"
      ],
      "execution_count": 8,
      "outputs": [
        {
          "output_type": "stream",
          "text": [
            "/usr/local/lib/python3.6/dist-packages/torch/nn/functional.py:1639: UserWarning: nn.functional.sigmoid is deprecated. Use torch.sigmoid instead.\n",
            "  warnings.warn(\"nn.functional.sigmoid is deprecated. Use torch.sigmoid instead.\")\n"
          ],
          "name": "stderr"
        },
        {
          "output_type": "stream",
          "text": [
            "Epoch: 1 \tTraining Loss: 18.881215\n",
            "Epoch: 2 \tTraining Loss: 18.252283\n",
            "Epoch: 3 \tTraining Loss: 18.216780\n",
            "Epoch: 4 \tTraining Loss: 18.194713\n",
            "Epoch: 5 \tTraining Loss: 18.175006\n",
            "Epoch: 6 \tTraining Loss: 18.161450\n",
            "Epoch: 7 \tTraining Loss: 18.151727\n",
            "Epoch: 8 \tTraining Loss: 18.143914\n",
            "Epoch: 9 \tTraining Loss: 18.137582\n",
            "Epoch: 10 \tTraining Loss: 18.131833\n",
            "Epoch: 11 \tTraining Loss: 18.126996\n",
            "Epoch: 12 \tTraining Loss: 18.123114\n",
            "Epoch: 13 \tTraining Loss: 18.119886\n",
            "Epoch: 14 \tTraining Loss: 18.117153\n",
            "Epoch: 15 \tTraining Loss: 18.114865\n",
            "Epoch: 16 \tTraining Loss: 18.112872\n",
            "Epoch: 17 \tTraining Loss: 18.111115\n",
            "Epoch: 18 \tTraining Loss: 18.109575\n",
            "Epoch: 19 \tTraining Loss: 18.108180\n",
            "Epoch: 20 \tTraining Loss: 18.106857\n",
            "Epoch: 21 \tTraining Loss: 18.105623\n",
            "Epoch: 22 \tTraining Loss: 18.104456\n",
            "Epoch: 23 \tTraining Loss: 18.103363\n",
            "Epoch: 24 \tTraining Loss: 18.102269\n",
            "Epoch: 25 \tTraining Loss: 18.101229\n",
            "Epoch: 26 \tTraining Loss: 18.100268\n",
            "Epoch: 27 \tTraining Loss: 18.099364\n",
            "Epoch: 28 \tTraining Loss: 18.098489\n",
            "Epoch: 29 \tTraining Loss: 18.097525\n",
            "Epoch: 30 \tTraining Loss: 18.096502\n",
            "Epoch: 31 \tTraining Loss: 18.095689\n",
            "Epoch: 32 \tTraining Loss: 18.094962\n",
            "Epoch: 33 \tTraining Loss: 18.094285\n",
            "Epoch: 34 \tTraining Loss: 18.093649\n",
            "Epoch: 35 \tTraining Loss: 18.093043\n",
            "Epoch: 36 \tTraining Loss: 18.092469\n",
            "Epoch: 37 \tTraining Loss: 18.091898\n",
            "Epoch: 38 \tTraining Loss: 18.091359\n",
            "Epoch: 39 \tTraining Loss: 18.090827\n",
            "Epoch: 40 \tTraining Loss: 18.090298\n",
            "Epoch: 41 \tTraining Loss: 18.089783\n",
            "Epoch: 42 \tTraining Loss: 18.089268\n",
            "Epoch: 43 \tTraining Loss: 18.088768\n",
            "Epoch: 44 \tTraining Loss: 18.088283\n",
            "Epoch: 45 \tTraining Loss: 18.087806\n",
            "Epoch: 46 \tTraining Loss: 18.087302\n",
            "Epoch: 47 \tTraining Loss: 18.086829\n",
            "Epoch: 48 \tTraining Loss: 18.086369\n",
            "Epoch: 49 \tTraining Loss: 18.085908\n",
            "Epoch: 50 \tTraining Loss: 18.085462\n",
            "Epoch: 51 \tTraining Loss: 18.085018\n",
            "Epoch: 52 \tTraining Loss: 18.084591\n",
            "Epoch: 53 \tTraining Loss: 18.084170\n",
            "Epoch: 54 \tTraining Loss: 18.083751\n",
            "Epoch: 55 \tTraining Loss: 18.083344\n",
            "Epoch: 56 \tTraining Loss: 18.082943\n",
            "Epoch: 57 \tTraining Loss: 18.082552\n",
            "Epoch: 58 \tTraining Loss: 18.082178\n",
            "Epoch: 59 \tTraining Loss: 18.081801\n",
            "Epoch: 60 \tTraining Loss: 18.081390\n",
            "Epoch: 61 \tTraining Loss: 18.080976\n",
            "Epoch: 62 \tTraining Loss: 18.080605\n",
            "Epoch: 63 \tTraining Loss: 18.080239\n",
            "Epoch: 64 \tTraining Loss: 18.079896\n",
            "Epoch: 65 \tTraining Loss: 18.079564\n",
            "Epoch: 66 \tTraining Loss: 18.079243\n",
            "Epoch: 67 \tTraining Loss: 18.078926\n",
            "Epoch: 68 \tTraining Loss: 18.078618\n",
            "Epoch: 69 \tTraining Loss: 18.078308\n",
            "Epoch: 70 \tTraining Loss: 18.078003\n",
            "Epoch: 71 \tTraining Loss: 18.077705\n",
            "Epoch: 72 \tTraining Loss: 18.077416\n",
            "Epoch: 73 \tTraining Loss: 18.077124\n",
            "Epoch: 74 \tTraining Loss: 18.076835\n",
            "Epoch: 75 \tTraining Loss: 18.076544\n",
            "Epoch: 76 \tTraining Loss: 18.076252\n",
            "Epoch: 77 \tTraining Loss: 18.075946\n",
            "Epoch: 78 \tTraining Loss: 18.075640\n",
            "Epoch: 79 \tTraining Loss: 18.075293\n",
            "Epoch: 80 \tTraining Loss: 18.074920\n",
            "Epoch: 81 \tTraining Loss: 18.074595\n",
            "Epoch: 82 \tTraining Loss: 18.074257\n",
            "Epoch: 83 \tTraining Loss: 18.073902\n",
            "Epoch: 84 \tTraining Loss: 18.073500\n",
            "Epoch: 85 \tTraining Loss: 18.073042\n",
            "Epoch: 86 \tTraining Loss: 18.072716\n",
            "Epoch: 87 \tTraining Loss: 18.072429\n",
            "Epoch: 88 \tTraining Loss: 18.072176\n",
            "Epoch: 89 \tTraining Loss: 18.071928\n",
            "Epoch: 90 \tTraining Loss: 18.071704\n",
            "Epoch: 91 \tTraining Loss: 18.071473\n",
            "Epoch: 92 \tTraining Loss: 18.071256\n",
            "Epoch: 93 \tTraining Loss: 18.071041\n",
            "Epoch: 94 \tTraining Loss: 18.070833\n",
            "Epoch: 95 \tTraining Loss: 18.070636\n",
            "Epoch: 96 \tTraining Loss: 18.070436\n",
            "Epoch: 97 \tTraining Loss: 18.070242\n",
            "Epoch: 98 \tTraining Loss: 18.070049\n",
            "Epoch: 99 \tTraining Loss: 18.069862\n",
            "Epoch: 100 \tTraining Loss: 18.069675\n"
          ],
          "name": "stdout"
        }
      ]
    },
    {
      "cell_type": "code",
      "metadata": {
        "colab": {
          "base_uri": "https://localhost:8080/",
          "height": 609
        },
        "id": "v7OFIhwQDyYy",
        "outputId": "37db1db1-a638-4fbe-a189-46a5244f1b7d"
      },
      "source": [
        "#Batch of test images\n",
        "dataiter = iter(test_loader)\n",
        "images, labels = dataiter.next()\n",
        "\n",
        "#Sample outputs\n",
        "output = model(images)\n",
        "images = images.numpy()\n",
        "\n",
        "output = output.view(32, 3, 32, 32)\n",
        "output = output.detach().numpy()\n",
        "\n",
        "#Original Images\n",
        "print(\"Original Images\")\n",
        "fig, axes = plt.subplots(nrows=1, ncols=5, sharex=True, sharey=True, figsize=(12,4))\n",
        "for idx in np.arange(5):\n",
        "    ax = fig.add_subplot(1, 5, idx+1, xticks=[], yticks=[])\n",
        "    imshow(images[idx])\n",
        "    ax.set_title(classes[labels[idx]])\n",
        "plt.show()\n",
        "\n",
        "#Reconstructed Images\n",
        "print('Reconstructed Images')\n",
        "fig, axes = plt.subplots(nrows=1, ncols=5, sharex=True, sharey=True, figsize=(12,4))\n",
        "for idx in np.arange(5):\n",
        "    ax = fig.add_subplot(1, 5, idx+1, xticks=[], yticks=[])\n",
        "    imshow(output[idx])\n",
        "    ax.set_title(classes[labels[idx]])\n",
        "plt.show() "
      ],
      "execution_count": 10,
      "outputs": [
        {
          "output_type": "stream",
          "text": [
            "/usr/local/lib/python3.6/dist-packages/torch/nn/functional.py:1639: UserWarning: nn.functional.sigmoid is deprecated. Use torch.sigmoid instead.\n",
            "  warnings.warn(\"nn.functional.sigmoid is deprecated. Use torch.sigmoid instead.\")\n"
          ],
          "name": "stderr"
        },
        {
          "output_type": "stream",
          "text": [
            "Original Images\n"
          ],
          "name": "stdout"
        },
        {
          "output_type": "display_data",
          "data": {
            "image/png": "[encoded data removed]",
            "text/plain": [
              "<Figure size 864x288 with 10 Axes>"
            ]
          },
          "metadata": {
            "tags": [],
            "needs_background": "light"
          }
        },
        {
          "output_type": "stream",
          "text": [
            "Reconstructed Images\n"
          ],
          "name": "stdout"
        },
        {
          "output_type": "display_data",
          "data": {
            "image/png": "[encoded data removed]",
            "text/plain": [
              "<Figure size 864x288 with 10 Axes>"
            ]
          },
          "metadata": {
            "tags": [],
            "needs_background": "light"
          }
        }
      ]
    }
  ]
}